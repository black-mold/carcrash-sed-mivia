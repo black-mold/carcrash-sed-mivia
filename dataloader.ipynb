{
 "cells": [
  {
   "cell_type": "code",
   "execution_count": 2,
   "metadata": {},
   "outputs": [],
   "source": [
    "import torch\n",
    "from torch.utils.data import Dataset, DataLoader\n",
    "import glob\n",
    "import librosa\n",
    "import numpy as np\n",
    "import xml.etree.ElementTree as ET"
   ]
  },
  {
   "cell_type": "code",
   "execution_count": 33,
   "metadata": {},
   "outputs": [],
   "source": [
    "class MiviaDataset(torch.utils.data.Dataset):\n",
    "    def __init__(self, mivia_path, max_frames = 60, fs = 16000, partition = ['A'], hop_length = 128, net_pooling = 1):\n",
    "        self.mivia_path = mivia_path\n",
    "        self.max_frames = max_frames\n",
    "        self.partition = partition\n",
    "        self.fs = fs\n",
    "\n",
    "        xml_list = []\n",
    "        for partition in self.partition:\n",
    "            xml_list += glob.glob(f\"{self.mivia_path}/audio/{partition}/*.xml\")\n",
    "\n",
    "        self.xml_files = xml_list\n",
    "\n",
    "        ## for label encoding\n",
    "        n_samples = self.max_frames * self.fs\n",
    "        self.hop_length = hop_length\n",
    "        self.net_pooling = net_pooling\n",
    "        self.n_frames = int(int((n_samples/ self.hop_length)) / self.net_pooling)\n",
    "\n",
    "\n",
    "    def _time_to_frame(self, time):\n",
    "        samples = time * self.fs\n",
    "        frame = (samples) / self.hop_length\n",
    "        return np.clip(frame / self.net_pooling, a_min=0, a_max=self.n_frames)\n",
    "    \n",
    "    def _encoder_strong_label(self, xml_dir):\n",
    "        \"\"\"Encode a list of strong label\"\"\"\n",
    "        xml = ET.parse(xml_dir)\n",
    "        root = xml.getroot()\n",
    "\n",
    "        item = root.find(\"events\").findall(\"item\")\n",
    "\n",
    "        onset = [float(x.findtext(\"STARTSECOND\")) for x in item] # list, str\n",
    "        offset = [float(x.findtext(\"ENDSECOND\")) for x in item]  # list, str\n",
    "        label_idx = [int(x.findtext(\"CLASS_ID\")) for x in item] \n",
    "\n",
    "        target = np.zeros([self.n_frames, 2], dtype = 'float32')  # shape : [frame, class], class : 3\n",
    "\n",
    "        if (len(onset) != len(offset)): \n",
    "            print(\"wrong\")\n",
    "        else:\n",
    "            for i in range(len(onset)):\n",
    "                start = int(self._time_to_frame(onset[i])) #버림 -> 해당 time frame에 걸쳐있으면 true??\n",
    "                end = int(np.ceil(self._time_to_frame(offset[i])))   #올림 -> 해당 time frame에 걸쳐있으면 true\n",
    "                target[start:end, (label_idx[i]-2)] = 1 # (class_id[i]-1) = 1 : scream, 2 : tire skidding, 3 : car crash\n",
    "        return (target)\n",
    "    \n",
    "    def __len__(self):\n",
    "        return len(self.xml_files)\n",
    "    \n",
    "    def __getitem__(self, idx):\n",
    "        target = self._encoder_strong_label(self.xml_files[idx])\n",
    "        print(self.xml_files[idx])\n",
    "        print(self.xml_files[idx].split('/')[-2])\n",
    "        partition = self.xml_files[idx].split('/')[-2]\n",
    "        audio_path = self.xml_files[idx].replace('.xml', '_1.wav').replace(f'/{partition}/', f'/{partition}/v2/')\n",
    "        audio_data, _ = librosa.load(audio_path, mono = True, sr = self.fs)\n",
    "\n",
    "        return audio_data, target\n",
    "    \n",
    "import matplotlib.pyplot as plt\n",
    "\n",
    "def draw_heatmap(data, sampling_frequency, hop_length):\n",
    "    plt.figure(figsize=(10, 6)) # Figure size can be adjusted according to your preference\n",
    "    plt.imshow(data, aspect='auto', interpolation='nearest', cmap='viridis')\n",
    "    plt.colorbar()  # Optional: if you want a colorbar to indicate the values\n",
    "    \n",
    "    x_ticks = np.arange(0, data.shape[1], step=5*sampling_frequency/hop_length)\n",
    "    plt.xticks(x_ticks, x_ticks * (hop_length / sampling_frequency))\n",
    "    plt.xlabel(\"Time (s)\")\n",
    "    \n",
    "    plt.yticks([0, 1], ['tire', 'crash'])\n",
    "    plt.show()\n",
    "\n",
    "\n"
   ]
  },
  {
   "cell_type": "code",
   "execution_count": 34,
   "metadata": {},
   "outputs": [],
   "source": [
    "PARTITION = ['A', 'B']\n",
    "MAX_FRAMES = 60\n",
    "MIVIA_PATH = './data/mivia_raw/'\n",
    "\n"
   ]
  },
  {
   "cell_type": "code",
   "execution_count": 35,
   "metadata": {},
   "outputs": [],
   "source": [
    "train_dataset = MiviaDataset(MIVIA_PATH, MAX_FRAMES, partition = PARTITION)"
   ]
  },
  {
   "cell_type": "code",
   "execution_count": 36,
   "metadata": {},
   "outputs": [
    {
     "name": "stdout",
     "output_type": "stream",
     "text": [
      "./data/mivia_raw//audio/A/00007.xml\n",
      "A\n"
     ]
    }
   ],
   "source": [
    "data, label = train_dataset[1]"
   ]
  },
  {
   "cell_type": "code",
   "execution_count": 23,
   "metadata": {},
   "outputs": [
    {
     "data": {
      "text/plain": [
       "(1042967,)"
      ]
     },
     "execution_count": 23,
     "metadata": {},
     "output_type": "execute_result"
    }
   ],
   "source": [
    "data.shape"
   ]
  },
  {
   "cell_type": "code",
   "execution_count": 13,
   "metadata": {},
   "outputs": [
    {
     "data": {
      "text/plain": [
       "(7500, 2)"
      ]
     },
     "execution_count": 13,
     "metadata": {},
     "output_type": "execute_result"
    }
   ],
   "source": [
    "label.shape"
   ]
  },
  {
   "cell_type": "code",
   "execution_count": 14,
   "metadata": {},
   "outputs": [
    {
     "data": {
      "text/plain": [
       "numpy.ndarray"
      ]
     },
     "execution_count": 14,
     "metadata": {},
     "output_type": "execute_result"
    }
   ],
   "source": [
    "type(label)"
   ]
  },
  {
   "cell_type": "code",
   "execution_count": 15,
   "metadata": {},
   "outputs": [
    {
     "ename": "TypeError",
     "evalue": "draw_heatmap() missing 2 required positional arguments: 'sampling_frequency' and 'hop_length'",
     "output_type": "error",
     "traceback": [
      "\u001b[0;31m---------------------------------------------------------------------------\u001b[0m",
      "\u001b[0;31mTypeError\u001b[0m                                 Traceback (most recent call last)",
      "Cell \u001b[0;32mIn[15], line 1\u001b[0m\n\u001b[0;32m----> 1\u001b[0m draw_heatmap(label\u001b[39m.\u001b[39;49mT)\n",
      "\u001b[0;31mTypeError\u001b[0m: draw_heatmap() missing 2 required positional arguments: 'sampling_frequency' and 'hop_length'"
     ]
    }
   ],
   "source": [
    "draw_heatmap(label.T)"
   ]
  },
  {
   "cell_type": "code",
   "execution_count": 16,
   "metadata": {},
   "outputs": [
    {
     "data": {
      "text/plain": [
       "(7500, 2)"
      ]
     },
     "execution_count": 16,
     "metadata": {},
     "output_type": "execute_result"
    }
   ],
   "source": [
    "label.shape"
   ]
  },
  {
   "cell_type": "code",
   "execution_count": 17,
   "metadata": {},
   "outputs": [],
   "source": [
    "def draw_heatmap(data, sampling_frequency, hop_length):\n",
    "    plt.figure(figsize=(10, 6)) # Figure size can be adjusted according to your preference\n",
    "    plt.imshow(data, aspect='auto', interpolation='nearest', cmap='viridis')\n",
    "    plt.colorbar()  # Optional: if you want a colorbar to indicate the values\n",
    "    \n",
    "    x_ticks = np.arange(0, data.shape[1], step=5*sampling_frequency/hop_length)\n",
    "    plt.xticks(x_ticks, x_ticks * (hop_length / sampling_frequency))\n",
    "    plt.xlabel(\"Time (s)\")\n",
    "    \n",
    "    plt.yticks([0, 1], ['tire', 'crash'])\n",
    "    plt.show()\n"
   ]
  },
  {
   "cell_type": "code",
   "execution_count": 18,
   "metadata": {},
   "outputs": [
    {
     "data": {
      "image/png": "[encoded data removed]",
      "text/plain": [
       "<Figure size 1000x600 with 2 Axes>"
      ]
     },
     "metadata": {},
     "output_type": "display_data"
    }
   ],
   "source": [
    "draw_heatmap(label.T, 16000, 128)"
   ]
  },
  {
   "cell_type": "code",
   "execution_count": null,
   "metadata": {},
   "outputs": [],
   "source": []
  }
 ],
 "metadata": {
  "kernelspec": {
   "display_name": "sv",
   "language": "python",
   "name": "python3"
  },
  "language_info": {
   "codemirror_mode": {
    "name": "ipython",
    "version": 3
   },
   "file_extension": ".py",
   "mimetype": "text/x-python",
   "name": "python",
   "nbconvert_exporter": "python",
   "pygments_lexer": "ipython3",
   "version": "3.10.11"
  },
  "orig_nbformat": 4
 },
 "nbformat": 4,
 "nbformat_minor": 2
}
